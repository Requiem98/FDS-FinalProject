{
 "cells": [
  {
   "cell_type": "code",
   "execution_count": 1,
   "id": "0c0762dd-cc43-4d41-a029-ac1144d0fad1",
   "metadata": {},
   "outputs": [],
   "source": [
    "from library import *\n",
    "from dataset_creation import *\n",
    "from k_fold import *"
   ]
  },
  {
   "cell_type": "code",
   "execution_count": 2,
   "id": "574c6c14-6276-4646-8165-28c44d75b08e",
   "metadata": {},
   "outputs": [],
   "source": [
    "def plot_color(values, size=(30,5), coef=1):\n",
    "    \n",
    "    my_cmap = plt.get_cmap('copper')\n",
    "    my_norm = plt.Normalize(vmin=0, vmax=max(values)*coef)\n",
    "    colormap=my_cmap(my_norm(values))\n",
    "    \n",
    "    return colormap"
   ]
  },
  {
   "cell_type": "raw",
   "id": "c447a195-7578-44bf-afbf-0d72b8dbecfc",
   "metadata": {},
   "source": [
    "fig, ax = plt.subplots(figsize=(10, 20))\n",
    "\n",
    "\n",
    "\n",
    "ax.pie(dataset[[\"hypertension\", \"stroke\", \"id\"]][dataset.stroke == 1].groupby(\"hypertension\").count()[\"id\"], labels = [\"No\", \"Yes\"], \n",
    "       colors=[\"k\",\"gold\"], autopct='%1.1f%%', textprops={'size': 30, \"color\": \"w\"}, labeldistance=None, wedgeprops={'linewidth': 3.0, 'edgecolor': 'white'});\n",
    "ax.set_title(\"Percentage of stroke with hypertension\", fontsize=50);\n",
    "\n",
    "\n",
    "ax.legend(fontsize = 25)\n",
    "fig.savefig(\"immages/hypertension_pie.png\", bbox_inches='tight', transparent = True)"
   ]
  },
  {
   "cell_type": "code",
   "execution_count": null,
   "id": "f2b7277e-2f15-4c12-9f8d-e065731249d9",
   "metadata": {},
   "outputs": [],
   "source": []
  },
  {
   "cell_type": "raw",
   "id": "03a802f9-1023-4c85-986c-eefc98744051",
   "metadata": {},
   "source": [
    "fig, ax = plt.subplots(figsize=(10, 20))\n",
    "\n",
    "ax.pie(dataset.groupby(\"stroke\").count()[\"id\"], labels = [\"No stroke\", \"Stroke\"], \n",
    "       colors=[\"k\",\"gold\"], autopct='%1.1f%%', textprops={'size': 30, \"color\": \"w\"}, labeldistance=None, wedgeprops={'linewidth': 3.0, 'edgecolor': 'white'});\n",
    "ax.set_title(\"Percentage of stokes\", fontsize=50);\n",
    "ax.legend(fontsize = 25)\n",
    "fig.savefig(\"immages/stroke_pie.png\", bbox_inches='tight', transparent = True)"
   ]
  },
  {
   "cell_type": "raw",
   "id": "f49d93a3-fbe5-43c0-8a80-db1b4f6a6099",
   "metadata": {},
   "source": [
    "fig, ax = plt.subplots(figsize=(20,10))\n",
    "\n",
    "stroke1 = dataset[dataset['stroke'] == 1].head(249).copy()\n",
    "stroke0 = dataset[dataset['stroke'] == 0].head(200).copy()\n",
    "strokee = pd.concat([stroke1, stroke0])\n",
    "\n",
    "sns.scatterplot(x = strokee.age, y = strokee.bmi, size=strokee.avg_glucose_level, sizes=(1,400), hue = strokee.stroke, palette = [\"y\", \"k\"], ax=ax)\n",
    "\n",
    "\n",
    "plt.xlabel('age', size = 50)\n",
    "plt.ylabel('bmi', size = 50);\n",
    "plt.xticks(size = 25)\n",
    "plt.yticks(size = 25)\n",
    "plt.legend(fontsize=15, facecolor = \"w\")\n",
    "plt.grid(color = \"w\")\n",
    "\n",
    "fig.savefig(\"immages/scatter.png\", bbox_inches='tight')"
   ]
  },
  {
   "cell_type": "raw",
   "id": "5b8ee77e-8760-40dd-9a48-56c26cc04256",
   "metadata": {},
   "source": [
    "plt.figure(figsize=(30,10))\n",
    "sns.heatmap(dataset[dataset.columns[1:]].corr(), cmap= \"copper\", annot=True);"
   ]
  },
  {
   "cell_type": "raw",
   "id": "eb100570-f68b-4d1a-bd59-7a14aab4076e",
   "metadata": {},
   "source": [
    "dataset[dataset.columns[1:]].corr()"
   ]
  },
  {
   "cell_type": "raw",
   "id": "835da733-eb1e-4475-ab72-d04af43b7159",
   "metadata": {},
   "source": [
    "sns.pairplot(dataset[dataset.columns[1:]], hue=\"stroke\", height=5, palette=[\"y\",\"k\"]);"
   ]
  },
  {
   "cell_type": "markdown",
   "id": "56fcb722-5504-416a-a54b-11f9bfe244c0",
   "metadata": {
    "id": "l34kMjuTVp5A"
   },
   "source": [
    "# Logistic Regression"
   ]
  },
  {
   "cell_type": "code",
   "execution_count": 3,
   "id": "a87462bc-5133-454f-ab97-399abaadfda4",
   "metadata": {
    "id": "HWYcZdOEgHkf"
   },
   "outputs": [],
   "source": [
    "clf = LogisticRegression(solver=\"liblinear\")"
   ]
  },
  {
   "cell_type": "code",
   "execution_count": 4,
   "id": "7a406368-bf25-47bd-9619-cbd59b5e1f5b",
   "metadata": {
    "id": "qBFOGdJRgHmM"
   },
   "outputs": [
    {
     "ename": "NameError",
     "evalue": "name 'X_train' is not defined",
     "output_type": "error",
     "traceback": [
      "\u001b[0;31m---------------------------------------------------------------------------\u001b[0m",
      "\u001b[0;31mNameError\u001b[0m                                 Traceback (most recent call last)",
      "\u001b[0;32m/tmp/ipykernel_11540/1102869631.py\u001b[0m in \u001b[0;36m<module>\u001b[0;34m\u001b[0m\n\u001b[0;32m----> 1\u001b[0;31m \u001b[0mclf\u001b[0m\u001b[0;34m.\u001b[0m\u001b[0mfit\u001b[0m\u001b[0;34m(\u001b[0m\u001b[0mX_train\u001b[0m\u001b[0;34m,\u001b[0m \u001b[0my_train\u001b[0m\u001b[0;34m)\u001b[0m\u001b[0;34m\u001b[0m\u001b[0;34m\u001b[0m\u001b[0m\n\u001b[0m\u001b[1;32m      2\u001b[0m \u001b[0my_LR\u001b[0m \u001b[0;34m=\u001b[0m \u001b[0mclf\u001b[0m\u001b[0;34m.\u001b[0m\u001b[0mpredict\u001b[0m\u001b[0;34m(\u001b[0m\u001b[0mX_test\u001b[0m\u001b[0;34m)\u001b[0m\u001b[0;34m\u001b[0m\u001b[0;34m\u001b[0m\u001b[0m\n",
      "\u001b[0;31mNameError\u001b[0m: name 'X_train' is not defined"
     ]
    }
   ],
   "source": [
    "clf.fit(X_train, y_train)\n",
    "y_LR = clf.predict(X_test)"
   ]
  },
  {
   "cell_type": "code",
   "execution_count": null,
   "id": "482fa336-b8b0-4068-9cbb-25ac44641d18",
   "metadata": {
    "colab": {
     "base_uri": "https://localhost:8080/",
     "height": 407
    },
    "id": "XFPT1jrOzGG_",
    "outputId": "3c4cbb66-08c8-44dc-8a7e-d8c3208d39dd"
   },
   "outputs": [],
   "source": [
    "mat = confusion_matrix(y_test, y_LR)\n",
    "\n",
    "sns.set(font_scale=1.5) \n",
    "sns.heatmap(mat, square = True, annot=True, cbar=False, fmt=\"d\")\n",
    "plt.xlabel('predicted value')\n",
    "plt.ylabel('true value');"
   ]
  },
  {
   "cell_type": "code",
   "execution_count": null,
   "id": "d43b22d0-1d86-4a45-a74e-0b030b33abca",
   "metadata": {
    "colab": {
     "base_uri": "https://localhost:8080/"
    },
    "id": "s5D86bQBzGI4",
    "outputId": "c174f237-98a1-4149-c778-7b929967928a"
   },
   "outputs": [],
   "source": [
    "accuracy_score(y_test, y_LR)"
   ]
  },
  {
   "cell_type": "code",
   "execution_count": null,
   "id": "5f2956d4-6a5a-49dd-a0cd-0490dddf6a1a",
   "metadata": {},
   "outputs": [],
   "source": [
    "y_LR"
   ]
  },
  {
   "cell_type": "markdown",
   "id": "a4084d46-1dba-4e64-83e3-9688f3647fb9",
   "metadata": {},
   "source": [
    "# NAIVE BAYES"
   ]
  },
  {
   "cell_type": "code",
   "execution_count": null,
   "id": "32882dc2-b520-46e3-955e-ab82178f1fac",
   "metadata": {},
   "outputs": [],
   "source": [
    "from sklearn.naive_bayes import MultinomialNB\n",
    "from sklearn.metrics import confusion_matrix\n",
    "from sklearn.metrics import accuracy_score\n",
    "\n",
    "clf = MultinomialNB()\n",
    "y_pred = clf.fit(X_train, y_train)\n",
    "y_MNB = clf.predict(X_test)\n",
    "\n",
    "mat = confusion_matrix(y_test, y_MNB)\n",
    "\n",
    "sns.set(font_scale=1.5) \n",
    "sns.heatmap(mat, square = True, annot=True, cbar=False, fmt=\"d\")\n",
    "plt.xlabel('predicted value')\n",
    "plt.ylabel('true value');"
   ]
  },
  {
   "cell_type": "code",
   "execution_count": null,
   "id": "93184d3f-53c8-4dbe-9d47-7606992f4935",
   "metadata": {},
   "outputs": [],
   "source": [
    "accuracy_score(y_test, y_MNB)"
   ]
  },
  {
   "cell_type": "markdown",
   "id": "b261a987-76f5-4a87-b1ad-92fb1e21763e",
   "metadata": {},
   "source": [
    "# GNB"
   ]
  },
  {
   "cell_type": "code",
   "execution_count": null,
   "id": "3057abc5-fe2a-4a0a-881c-7778279aaf29",
   "metadata": {},
   "outputs": [],
   "source": [
    "from sklearn.datasets import load_iris\n",
    "from sklearn.model_selection import train_test_split\n",
    "from sklearn.naive_bayes import GaussianNB\n",
    "from sklearn.metrics import confusion_matrix\n",
    "from sklearn.metrics import accuracy_score\n",
    "\n",
    "gnb = GaussianNB()\n",
    "y_pred = gnb.fit(X_train, y_train)\n",
    "y_GNB = gnb.predict(X_test)\n",
    "\n",
    "mat = confusion_matrix(y_test, y_GNB)\n",
    "\n",
    "sns.set(font_scale=1.5) \n",
    "sns.heatmap(mat, square = True, annot=True, cbar=False, fmt=\"d\")\n",
    "plt.xlabel('predicted value')\n",
    "plt.ylabel('true value');"
   ]
  },
  {
   "cell_type": "code",
   "execution_count": null,
   "id": "823dd2e2-39b5-4cd8-8a07-5974ffb2092c",
   "metadata": {},
   "outputs": [],
   "source": [
    "accuracy_score(y_test, y_GNB)"
   ]
  },
  {
   "cell_type": "markdown",
   "id": "d4279b6b-43f1-42db-8d37-56fd74f0f66b",
   "metadata": {},
   "source": [
    "# K-fold"
   ]
  },
  {
   "cell_type": "code",
   "execution_count": null,
   "id": "c8202866-ac88-4d33-9b3d-3afe38718309",
   "metadata": {},
   "outputs": [],
   "source": [
    "def apply_Logistic_Regression(X_tr, y_tr, X_te):\n",
    "    clf = LogisticRegression(random_state=0)\n",
    "    clf.fit(X_tr, y_tr)\n",
    "    y_LR = clf.predict(X_te)\n",
    "    return y_LR"
   ]
  },
  {
   "cell_type": "raw",
   "id": "7a825106-8c08-40e9-b30c-5522569ae1a7",
   "metadata": {},
   "source": [
    "# Implement k-Fold\n",
    "import warnings\n",
    "warnings.filterwarnings(\"ignore\")\n",
    "\n",
    "# List of metrics averages\n",
    "MSE_values = []\n",
    "accuracy_values = []\n",
    "\n",
    "# List of tuples (k, MSE_medio_k_esimo, accuracy_medio_k_esimo)\n",
    "final_values = []\n",
    "\n",
    "min_degree = 1\n",
    "max_degree = 5\n",
    "\n",
    "k = 2\n",
    "for degree in tqdm(range(min_degree, max_degree + 1)):\n",
    "    kf = StratifiedKFold(n_splits=k, random_state=None, shuffle=True)\n",
    "\n",
    "    for train_index, test_index in kf.split(X_big_array, y):\n",
    "        X_train, X_test = X_big_array[train_index], X_big_array[test_index]\n",
    "        y_train, y_test = y.array[train_index], y.array[test_index]\n",
    "\n",
    "        # Transform with polyfit\n",
    "        poly = PolynomialFeatures(degree = degree, interaction_only=False, include_bias=False)\n",
    "        X_train_poly = poly.fit_transform(X_train)\n",
    "        X_test_poly = poly.transform(X_test)\n",
    "\n",
    "        y_LR = apply_Logistic_Regression(X_tr=X_train_poly, y_tr=y_train, X_te=X_test_poly)\n",
    "\n",
    "        MSE_values.append(mean_squared_error(y_test, y_LR))\n",
    "        accuracy_values.append(accuracy_score(y_test, y_LR))\n",
    "        # For each degree calculate the mean and add it\n",
    "    mean_MSE = np.mean(MSE_values)\n",
    "    mean_accuracy = np.mean(accuracy_values)\n",
    "    final_values.append((k, degree, mean_MSE, mean_accuracy))\n",
    "    # Risvuoto le liste\n",
    "    MSE_values = []\n",
    "    accuracy_values = []"
   ]
  },
  {
   "cell_type": "raw",
   "id": "8f5ea0fe-74e3-41a1-80aa-949680815ad1",
   "metadata": {},
   "source": [
    "fig, axs = plt.subplots(1,2, figsize=(25, 10))\n",
    "#fig.suptitle('Accuracy --> Left, MSE --> Right')\n",
    "\n",
    "# Lists with values\n",
    "x_values = [tupla[1] for tupla in final_values]\n",
    "mse_plot =  [tupla[2] for tupla in final_values]\n",
    "accuracy_plot =  [tupla[3] for tupla in final_values]\n",
    "\n",
    "print(x_values, mse_plot)\n",
    "\n",
    "# Plot the accuracy\n",
    "axs[0].plot(x_values[0:max_degree], accuracy_plot[0:max_degree], color=\"k\", linewidth = 5)\n",
    "axs[0].set_title(\"Accuracy\", fontsize=50)\n",
    "axs[0].set_xlabel(\"degree of the polynomial\", labelpad=20, fontsize=25)\n",
    "axs[0].grid(color=\"w\")\n",
    "\n",
    "for tick in axs[0].xaxis.get_major_ticks():\n",
    "    tick.label.set_fontsize(25) \n",
    "for tick in axs[0].yaxis.get_major_ticks():\n",
    "    tick.label.set_fontsize(25) \n",
    "\n",
    "\n",
    "\n",
    "# Plot the MSE\n",
    "axs[1].plot(x_values[0:max_degree], mse_plot[0:max_degree], color=\"orange\", linewidth = 5)\n",
    "axs[1].set_title(\"MSE\", fontsize=50)\n",
    "axs[1].set_xlabel(\"degree of the polynomial\", labelpad=20, fontsize=25)\n",
    "axs[1].grid(color=\"w\")\n",
    "\n",
    "\n",
    "for tick in axs[1].xaxis.get_major_ticks():\n",
    "    tick.label.set_fontsize(25) \n",
    "for tick in axs[1].yaxis.get_major_ticks():\n",
    "    tick.label.set_fontsize(25) \n",
    "\n",
    "\n",
    "# Legend\n",
    "legend_list = []\n",
    "\n",
    "plt.legend([str('k = ' + str(k))], loc='upper left', fontsize = 25, facecolor = \"w\")\n",
    "\n",
    "plt.savefig(\"immages/accuracy_mse.png\")"
   ]
  },
  {
   "cell_type": "raw",
   "id": "042d5045-3b12-4552-b526-810f9c544a17",
   "metadata": {},
   "source": [
    "k_fold_choose(X_res, y_res, model=\"logistic\")"
   ]
  },
  {
   "cell_type": "code",
   "execution_count": null,
   "id": "3dba991a-c0c4-4fd9-bd04-6a2bbc32456f",
   "metadata": {},
   "outputs": [],
   "source": []
  },
  {
   "cell_type": "code",
   "execution_count": null,
   "id": "01566da3-76a5-4326-a6d4-9230da5de7d1",
   "metadata": {},
   "outputs": [],
   "source": []
  },
  {
   "cell_type": "code",
   "execution_count": null,
   "id": "a3060e3c-71d0-46e2-a35f-f7f300706542",
   "metadata": {},
   "outputs": [],
   "source": [
    "accuracies = []\n",
    "\n",
    "for k in tqdm(range(2,10)):\n",
    "    \n",
    "    for f in tqdm(range(4,17)):\n",
    "\n",
    "        kfold = KFold(n_splits=k, random_state=123, shuffle=True)\n",
    "\n",
    "        model = KNeighborsClassifier(n_neighbors=3, n_jobs=-1)\n",
    "\n",
    "        sfs_kn = sfs(estimator = model, n_features_to_select=f, cv=kfold, n_jobs=-1)\n",
    "\n",
    "\n",
    "\n",
    "        # K-FOLD CROSS VALIDATION\n",
    "        # using X_train and y_train as new dataset to split in X_train_new + X_validation\n",
    "        sfs_kn.fit(X_res_train, y_res_train)\n",
    "\n",
    "        temp_X_train = sfs_kn.transform(X_res_train)\n",
    "\n",
    "        for train_index, test_index in kfold.split(temp_X_train, y_res_train):\n",
    "\n",
    "            X_train, X_test = temp_X_train[train_index], temp_X_train[test_index]\n",
    "            y_train, y_test = y_res_train[train_index], y_res_train[test_index]\n",
    "\n",
    "            model = KNeighborsClassifier(n_neighbors=3, n_jobs=-1).fit(X_train, y_train)\n",
    "\n",
    "            out = model.predict(X_test)\n",
    "\n",
    "            accuracies.append((accuracy_score(y_test, out), k, f))\n",
    "\n",
    "\n"
   ]
  },
  {
   "cell_type": "code",
   "execution_count": null,
   "id": "e5d70faa-a004-434f-9aaf-eae4494c2323",
   "metadata": {},
   "outputs": [],
   "source": [
    "sfs_kn.get_support()"
   ]
  },
  {
   "cell_type": "code",
   "execution_count": null,
   "id": "e2a86b75-d00e-48a5-a07d-ecf482e427fd",
   "metadata": {},
   "outputs": [],
   "source": [
    "y_pred.shape"
   ]
  },
  {
   "cell_type": "code",
   "execution_count": null,
   "id": "5196c4c4-ddf4-4254-b83e-69d286dc8c0f",
   "metadata": {},
   "outputs": [],
   "source": [
    "X_res[:,sfs_kn.get_support()].shape"
   ]
  },
  {
   "cell_type": "code",
   "execution_count": 16,
   "id": "6471db25-4801-4642-a4da-d72edf4fafb9",
   "metadata": {},
   "outputs": [
    {
     "data": {
      "text/plain": [
       "[0.9127764127764127,\n",
       " 0.9072481572481572,\n",
       " 0.9060196560196561,\n",
       " 0.8955773955773956]"
      ]
     },
     "execution_count": 16,
     "metadata": {},
     "output_type": "execute_result"
    }
   ],
   "source": [
    "accuracies"
   ]
  },
  {
   "cell_type": "code",
   "execution_count": 18,
   "id": "7afb9e59-0683-4aaf-80d1-93542be282dd",
   "metadata": {},
   "outputs": [
    {
     "data": {
      "text/plain": [
       "[0.8955773955773956,\n",
       " 0.9078624078624079,\n",
       " 0.9127764127764127,\n",
       " 0.9103194103194103]"
      ]
     },
     "execution_count": 18,
     "metadata": {},
     "output_type": "execute_result"
    }
   ],
   "source": [
    "accuracies"
   ]
  }
 ],
 "metadata": {
  "kernelspec": {
   "display_name": "Python 3 (ipykernel)",
   "language": "python",
   "name": "python3"
  },
  "language_info": {
   "codemirror_mode": {
    "name": "ipython",
    "version": 3
   },
   "file_extension": ".py",
   "mimetype": "text/x-python",
   "name": "python",
   "nbconvert_exporter": "python",
   "pygments_lexer": "ipython3",
   "version": "3.8.12"
  }
 },
 "nbformat": 4,
 "nbformat_minor": 5
}
