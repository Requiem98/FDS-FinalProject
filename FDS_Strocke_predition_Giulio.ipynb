{
 "cells": [
  {
   "cell_type": "markdown",
   "metadata": {
    "id": "qXSLDCotEGqk"
   },
   "source": [
    "# Librerie"
   ]
  },
  {
   "cell_type": "code",
   "execution_count": 1,
   "metadata": {
    "colab": {
     "base_uri": "https://localhost:8080/"
    },
    "id": "xO1ZQVZo8ji-",
    "outputId": "51a2dce7-9efe-4bbd-cd24-7200c536cd15"
   },
   "outputs": [],
   "source": [
    "import pandas as pd\n",
    "import numpy as np\n",
    "import matplotlib.pyplot as plt\n",
    "import scipy.stats\n",
    "import seaborn as sns\n",
    "%matplotlib inline\n",
    "import matplotlib.pyplot as plt\n",
    "plt.style.use('seaborn-whitegrid')\n",
    "import seaborn as sns\n",
    "\n",
    "import pandas as pd\n",
    "import numpy as np"
   ]
  },
  {
   "cell_type": "markdown",
   "metadata": {
    "id": "5Eze0V3q9Cnv"
   },
   "source": [
    "# Inspect the dataset"
   ]
  },
  {
   "cell_type": "code",
   "execution_count": 2,
   "metadata": {
    "colab": {
     "base_uri": "https://localhost:8080/"
    },
    "id": "jGE_XHyB8j9i",
    "outputId": "c5d16e0c-e9fc-4aef-9fd0-ae636741bbeb"
   },
   "outputs": [],
   "source": [
    "df = pd.read_csv(\"healthcare-dataset-stroke-data.csv\")"
   ]
  },
  {
   "cell_type": "code",
   "execution_count": 3,
   "metadata": {
    "colab": {
     "base_uri": "https://localhost:8080/",
     "height": 493
    },
    "id": "Hrtxe_GC9wVW",
    "outputId": "dc32f0a6-c36d-470c-9e77-ce3fcc9c1e07"
   },
   "outputs": [
    {
     "data": {
      "text/html": [
       "<div>\n",
       "<style scoped>\n",
       "    .dataframe tbody tr th:only-of-type {\n",
       "        vertical-align: middle;\n",
       "    }\n",
       "\n",
       "    .dataframe tbody tr th {\n",
       "        vertical-align: top;\n",
       "    }\n",
       "\n",
       "    .dataframe thead th {\n",
       "        text-align: right;\n",
       "    }\n",
       "</style>\n",
       "<table border=\"1\" class=\"dataframe\">\n",
       "  <thead>\n",
       "    <tr style=\"text-align: right;\">\n",
       "      <th></th>\n",
       "      <th>id</th>\n",
       "      <th>gender</th>\n",
       "      <th>age</th>\n",
       "      <th>hypertension</th>\n",
       "      <th>heart_disease</th>\n",
       "      <th>ever_married</th>\n",
       "      <th>work_type</th>\n",
       "      <th>Residence_type</th>\n",
       "      <th>avg_glucose_level</th>\n",
       "      <th>bmi</th>\n",
       "      <th>smoking_status</th>\n",
       "      <th>stroke</th>\n",
       "    </tr>\n",
       "  </thead>\n",
       "  <tbody>\n",
       "    <tr>\n",
       "      <th>0</th>\n",
       "      <td>9046</td>\n",
       "      <td>Male</td>\n",
       "      <td>67.0</td>\n",
       "      <td>0</td>\n",
       "      <td>1</td>\n",
       "      <td>Yes</td>\n",
       "      <td>Private</td>\n",
       "      <td>Urban</td>\n",
       "      <td>228.69</td>\n",
       "      <td>36.6</td>\n",
       "      <td>formerly smoked</td>\n",
       "      <td>1</td>\n",
       "    </tr>\n",
       "    <tr>\n",
       "      <th>1</th>\n",
       "      <td>51676</td>\n",
       "      <td>Female</td>\n",
       "      <td>61.0</td>\n",
       "      <td>0</td>\n",
       "      <td>0</td>\n",
       "      <td>Yes</td>\n",
       "      <td>Self-employed</td>\n",
       "      <td>Rural</td>\n",
       "      <td>202.21</td>\n",
       "      <td>NaN</td>\n",
       "      <td>never smoked</td>\n",
       "      <td>1</td>\n",
       "    </tr>\n",
       "    <tr>\n",
       "      <th>2</th>\n",
       "      <td>31112</td>\n",
       "      <td>Male</td>\n",
       "      <td>80.0</td>\n",
       "      <td>0</td>\n",
       "      <td>1</td>\n",
       "      <td>Yes</td>\n",
       "      <td>Private</td>\n",
       "      <td>Rural</td>\n",
       "      <td>105.92</td>\n",
       "      <td>32.5</td>\n",
       "      <td>never smoked</td>\n",
       "      <td>1</td>\n",
       "    </tr>\n",
       "    <tr>\n",
       "      <th>3</th>\n",
       "      <td>60182</td>\n",
       "      <td>Female</td>\n",
       "      <td>49.0</td>\n",
       "      <td>0</td>\n",
       "      <td>0</td>\n",
       "      <td>Yes</td>\n",
       "      <td>Private</td>\n",
       "      <td>Urban</td>\n",
       "      <td>171.23</td>\n",
       "      <td>34.4</td>\n",
       "      <td>smokes</td>\n",
       "      <td>1</td>\n",
       "    </tr>\n",
       "    <tr>\n",
       "      <th>4</th>\n",
       "      <td>1665</td>\n",
       "      <td>Female</td>\n",
       "      <td>79.0</td>\n",
       "      <td>1</td>\n",
       "      <td>0</td>\n",
       "      <td>Yes</td>\n",
       "      <td>Self-employed</td>\n",
       "      <td>Rural</td>\n",
       "      <td>174.12</td>\n",
       "      <td>24.0</td>\n",
       "      <td>never smoked</td>\n",
       "      <td>1</td>\n",
       "    </tr>\n",
       "    <tr>\n",
       "      <th>...</th>\n",
       "      <td>...</td>\n",
       "      <td>...</td>\n",
       "      <td>...</td>\n",
       "      <td>...</td>\n",
       "      <td>...</td>\n",
       "      <td>...</td>\n",
       "      <td>...</td>\n",
       "      <td>...</td>\n",
       "      <td>...</td>\n",
       "      <td>...</td>\n",
       "      <td>...</td>\n",
       "      <td>...</td>\n",
       "    </tr>\n",
       "    <tr>\n",
       "      <th>5105</th>\n",
       "      <td>18234</td>\n",
       "      <td>Female</td>\n",
       "      <td>80.0</td>\n",
       "      <td>1</td>\n",
       "      <td>0</td>\n",
       "      <td>Yes</td>\n",
       "      <td>Private</td>\n",
       "      <td>Urban</td>\n",
       "      <td>83.75</td>\n",
       "      <td>NaN</td>\n",
       "      <td>never smoked</td>\n",
       "      <td>0</td>\n",
       "    </tr>\n",
       "    <tr>\n",
       "      <th>5106</th>\n",
       "      <td>44873</td>\n",
       "      <td>Female</td>\n",
       "      <td>81.0</td>\n",
       "      <td>0</td>\n",
       "      <td>0</td>\n",
       "      <td>Yes</td>\n",
       "      <td>Self-employed</td>\n",
       "      <td>Urban</td>\n",
       "      <td>125.20</td>\n",
       "      <td>40.0</td>\n",
       "      <td>never smoked</td>\n",
       "      <td>0</td>\n",
       "    </tr>\n",
       "    <tr>\n",
       "      <th>5107</th>\n",
       "      <td>19723</td>\n",
       "      <td>Female</td>\n",
       "      <td>35.0</td>\n",
       "      <td>0</td>\n",
       "      <td>0</td>\n",
       "      <td>Yes</td>\n",
       "      <td>Self-employed</td>\n",
       "      <td>Rural</td>\n",
       "      <td>82.99</td>\n",
       "      <td>30.6</td>\n",
       "      <td>never smoked</td>\n",
       "      <td>0</td>\n",
       "    </tr>\n",
       "    <tr>\n",
       "      <th>5108</th>\n",
       "      <td>37544</td>\n",
       "      <td>Male</td>\n",
       "      <td>51.0</td>\n",
       "      <td>0</td>\n",
       "      <td>0</td>\n",
       "      <td>Yes</td>\n",
       "      <td>Private</td>\n",
       "      <td>Rural</td>\n",
       "      <td>166.29</td>\n",
       "      <td>25.6</td>\n",
       "      <td>formerly smoked</td>\n",
       "      <td>0</td>\n",
       "    </tr>\n",
       "    <tr>\n",
       "      <th>5109</th>\n",
       "      <td>44679</td>\n",
       "      <td>Female</td>\n",
       "      <td>44.0</td>\n",
       "      <td>0</td>\n",
       "      <td>0</td>\n",
       "      <td>Yes</td>\n",
       "      <td>Govt_job</td>\n",
       "      <td>Urban</td>\n",
       "      <td>85.28</td>\n",
       "      <td>26.2</td>\n",
       "      <td>Unknown</td>\n",
       "      <td>0</td>\n",
       "    </tr>\n",
       "  </tbody>\n",
       "</table>\n",
       "<p>5110 rows × 12 columns</p>\n",
       "</div>"
      ],
      "text/plain": [
       "         id  gender   age  hypertension  heart_disease ever_married  \\\n",
       "0      9046    Male  67.0             0              1          Yes   \n",
       "1     51676  Female  61.0             0              0          Yes   \n",
       "2     31112    Male  80.0             0              1          Yes   \n",
       "3     60182  Female  49.0             0              0          Yes   \n",
       "4      1665  Female  79.0             1              0          Yes   \n",
       "...     ...     ...   ...           ...            ...          ...   \n",
       "5105  18234  Female  80.0             1              0          Yes   \n",
       "5106  44873  Female  81.0             0              0          Yes   \n",
       "5107  19723  Female  35.0             0              0          Yes   \n",
       "5108  37544    Male  51.0             0              0          Yes   \n",
       "5109  44679  Female  44.0             0              0          Yes   \n",
       "\n",
       "          work_type Residence_type  avg_glucose_level   bmi   smoking_status  \\\n",
       "0           Private          Urban             228.69  36.6  formerly smoked   \n",
       "1     Self-employed          Rural             202.21   NaN     never smoked   \n",
       "2           Private          Rural             105.92  32.5     never smoked   \n",
       "3           Private          Urban             171.23  34.4           smokes   \n",
       "4     Self-employed          Rural             174.12  24.0     never smoked   \n",
       "...             ...            ...                ...   ...              ...   \n",
       "5105        Private          Urban              83.75   NaN     never smoked   \n",
       "5106  Self-employed          Urban             125.20  40.0     never smoked   \n",
       "5107  Self-employed          Rural              82.99  30.6     never smoked   \n",
       "5108        Private          Rural             166.29  25.6  formerly smoked   \n",
       "5109       Govt_job          Urban              85.28  26.2          Unknown   \n",
       "\n",
       "      stroke  \n",
       "0          1  \n",
       "1          1  \n",
       "2          1  \n",
       "3          1  \n",
       "4          1  \n",
       "...      ...  \n",
       "5105       0  \n",
       "5106       0  \n",
       "5107       0  \n",
       "5108       0  \n",
       "5109       0  \n",
       "\n",
       "[5110 rows x 12 columns]"
      ]
     },
     "execution_count": 3,
     "metadata": {},
     "output_type": "execute_result"
    }
   ],
   "source": [
    "df"
   ]
  },
  {
   "cell_type": "code",
   "execution_count": 4,
   "metadata": {
    "id": "E23wUz2hMfN9"
   },
   "outputs": [],
   "source": [
    "df_solution = df.pivot_table(index=['ever_married', 'stroke'], aggfunc='size')"
   ]
  },
  {
   "cell_type": "code",
   "execution_count": 5,
   "metadata": {
    "colab": {
     "base_uri": "https://localhost:8080/"
    },
    "id": "hLTq8WYuPIir",
    "outputId": "c51345be-fc26-4482-b918-a14162fde2bc"
   },
   "outputs": [
    {
     "data": {
      "text/plain": [
       "ever_married  stroke\n",
       "No            0         1728\n",
       "              1           29\n",
       "Yes           0         3133\n",
       "              1          220\n",
       "dtype: int64"
      ]
     },
     "execution_count": 5,
     "metadata": {},
     "output_type": "execute_result"
    }
   ],
   "source": [
    "df_solution"
   ]
  },
  {
   "cell_type": "markdown",
   "metadata": {
    "id": "MwQHJq6dGvZj"
   },
   "source": [
    "Controlliamo se ci sono missing value"
   ]
  },
  {
   "cell_type": "code",
   "execution_count": 6,
   "metadata": {
    "colab": {
     "base_uri": "https://localhost:8080/"
    },
    "id": "uHnlkOYWQiUA",
    "outputId": "e3253c51-f7f5-4782-e294-b6d797d75ed2"
   },
   "outputs": [
    {
     "data": {
      "text/plain": [
       "id                     0\n",
       "gender                 0\n",
       "age                    0\n",
       "hypertension           0\n",
       "heart_disease          0\n",
       "ever_married           0\n",
       "work_type              0\n",
       "Residence_type         0\n",
       "avg_glucose_level      0\n",
       "bmi                  201\n",
       "smoking_status         0\n",
       "stroke                 0\n",
       "dtype: int64"
      ]
     },
     "execution_count": 6,
     "metadata": {},
     "output_type": "execute_result"
    }
   ],
   "source": [
    "# inspect the dataset\n",
    "df.isna().sum()"
   ]
  },
  {
   "cell_type": "markdown",
   "metadata": {
    "id": "M5u1o3V3D9v0"
   },
   "source": [
    "Only the column \"bmi\" has nan value.\n",
    "\n",
    "We will fill it with the mean"
   ]
  },
  {
   "cell_type": "code",
   "execution_count": 7,
   "metadata": {
    "id": "_unC3fd-D8af"
   },
   "outputs": [],
   "source": [
    "# fill the nan value with the mean\n",
    "df['bmi'] = df['bmi'].fillna(round(df.bmi.mean(),1))"
   ]
  },
  {
   "cell_type": "markdown",
   "metadata": {
    "id": "SWF8rdnUiIgW"
   },
   "source": [
    "# Some correlation\n",
    "\n",
    "Supponiamo di star lavorando con un ospedale e vogliamo predirre se i pazienti avranno un ictus, e abbiamo un dataset dei pazienti li dentro e vogliamo vedere se il dataset è abbastanza buono per predirre l'icuts si o no, secondo delle linee guida date dai medici:\n",
    "\n",
    "```\n",
    "https://www.medicapoliambulatori.it/news/ictus-tipi-cause-sintomi/\n",
    "\n",
    "https://www.humanitas.it/malattie/ictus-cerebrale/\n",
    "\n",
    "```\n",
    "Infatti il 75% dei casi di ICTUS colpisce le persone con più di 65 anni.\n",
    "\n",
    "L’incidenza è proporzionale all’età della popolazione: è bassa fino a 40-45 anni, poi aumenta gradualmente per impennarsi dopo i 70 anni.\n",
    "\n",
    "Tra i fattori di rischio non modificabili:\n",
    "\n",
    "età;\n",
    "sesso;\n",
    "\n",
    "malattie cardiache\n",
    "\n",
    "obesità\n",
    "\n",
    "ipertensione arteriosa"
   ]
  },
  {
   "cell_type": "code",
   "execution_count": 8,
   "metadata": {
    "id": "e-rHaM5dj2er"
   },
   "outputs": [],
   "source": [
    "# Take only the dataset with stroke = 1\n",
    "dfStrocke = df[df['stroke'] == 1].copy()"
   ]
  },
  {
   "cell_type": "code",
   "execution_count": 9,
   "metadata": {
    "colab": {
     "base_uri": "https://localhost:8080/",
     "height": 394
    },
    "id": "KMyUJ6lFiLY3",
    "outputId": "d4e85b5b-cbcd-48b9-b51a-2375d1de8200"
   },
   "outputs": [
    {
     "data": {
      "image/png": "[encoded data removed]",
      "text/plain": [
       "<Figure size 720x432 with 1 Axes>"
      ]
     },
     "metadata": {},
     "output_type": "display_data"
    }
   ],
   "source": [
    "# set size of sbn figure \n",
    "sns.set(rc = {'figure.figsize':(10,6)})\n",
    "sns.histplot(data = dfStrocke, x='ever_married', hue='stroke', stat = 'probability', palette = 'magma')\n",
    "plt.show()"
   ]
  },
  {
   "cell_type": "code",
   "execution_count": 10,
   "metadata": {
    "colab": {
     "base_uri": "https://localhost:8080/",
     "height": 394
    },
    "id": "TV-QxLGpiLai",
    "outputId": "a21530b9-6674-4355-ec13-50ce4e20a8f6"
   },
   "outputs": [
    {
     "data": {
      "image/png": "[encoded data removed]",
      "text/plain": [
       "<Figure size 720x432 with 1 Axes>"
      ]
     },
     "metadata": {},
     "output_type": "display_data"
    }
   ],
   "source": [
    "sns.histplot(data = dfStrocke, x='work_type', hue='stroke', stat = 'probability', palette = 'magma')\n",
    "plt.show()"
   ]
  },
  {
   "cell_type": "code",
   "execution_count": 11,
   "metadata": {
    "colab": {
     "base_uri": "https://localhost:8080/",
     "height": 394
    },
    "id": "3JR06-0JiLeX",
    "outputId": "b25133b7-b693-41ab-86bc-cc2bfe760253"
   },
   "outputs": [
    {
     "data": {
      "image/png": "[encoded data removed]",
      "text/plain": [
       "<Figure size 720x432 with 1 Axes>"
      ]
     },
     "metadata": {},
     "output_type": "display_data"
    }
   ],
   "source": [
    "sns.histplot(data = dfStrocke, x='Residence_type', hue='stroke', bins = 2, stat = 'probability', palette = 'magma')\n",
    "plt.show()"
   ]
  },
  {
   "cell_type": "markdown",
   "metadata": {
    "id": "pff3CCgjNJDX"
   },
   "source": [
    "inutile"
   ]
  },
  {
   "cell_type": "code",
   "execution_count": 12,
   "metadata": {
    "colab": {
     "base_uri": "https://localhost:8080/",
     "height": 394
    },
    "id": "a6Olg_hqjNO3",
    "outputId": "c81508cd-fa97-4d73-f102-2e3cc8ad77b5"
   },
   "outputs": [
    {
     "data": {
      "image/png": "[encoded data removed]",
      "text/plain": [
       "<Figure size 720x432 with 1 Axes>"
      ]
     },
     "metadata": {},
     "output_type": "display_data"
    }
   ],
   "source": [
    "sns.histplot(data = dfStrocke, x='smoking_status', hue='stroke', stat = 'probability')\n",
    "plt.show()"
   ]
  },
  {
   "cell_type": "markdown",
   "metadata": {
    "id": "AxzVgUVeIadv"
   },
   "source": [
    "We can see that the % of pearson with unknown status of smoking is high relately to the number of pearson who had a stroke."
   ]
  },
  {
   "cell_type": "code",
   "execution_count": 13,
   "metadata": {
    "colab": {
     "base_uri": "https://localhost:8080/"
    },
    "id": "2Ii_mQ-NIZ40",
    "outputId": "b4814db6-f540-40b6-cd18-efdb157dcb71"
   },
   "outputs": [
    {
     "data": {
      "text/plain": [
       "18.88"
      ]
     },
     "execution_count": 13,
     "metadata": {},
     "output_type": "execute_result"
    }
   ],
   "source": [
    "unknownSmoke = round(sum((dfStrocke['smoking_status'] == 'Unknown'))/dfStrocke.shape[0] * 100, 2)\n",
    "unknownSmoke"
   ]
  },
  {
   "cell_type": "code",
   "execution_count": 14,
   "metadata": {
    "colab": {
     "base_uri": "https://localhost:8080/",
     "height": 394
    },
    "id": "E-pWbk4BJYxf",
    "outputId": "3a891e02-1d1e-40d6-f684-d58fb548afd3"
   },
   "outputs": [
    {
     "data": {
      "image/png": "[encoded data removed]",
      "text/plain": [
       "<Figure size 720x432 with 1 Axes>"
      ]
     },
     "metadata": {},
     "output_type": "display_data"
    }
   ],
   "source": [
    "sns.histplot(data = dfStrocke, x='heart_disease', hue='stroke', bins = 2, stat = 'probability')\n",
    "plt.show()"
   ]
  },
  {
   "cell_type": "markdown",
   "metadata": {
    "id": "bCTLjwrwMUc5"
   },
   "source": [
    "Il dataset rispecchia i dati dai siti mediciosi?\n",
    "si/no spiega"
   ]
  },
  {
   "cell_type": "markdown",
   "metadata": {
    "id": "8uD8BHvYlTwH"
   },
   "source": [
    "### ScatterPlot"
   ]
  },
  {
   "cell_type": "code",
   "execution_count": 15,
   "metadata": {
    "colab": {
     "base_uri": "https://localhost:8080/"
    },
    "id": "ffWxhZcQWgmd",
    "outputId": "a6b1ef43-66aa-44b8-8a26-d587bc0c0183"
   },
   "outputs": [
    {
     "name": "stdout",
     "output_type": "stream",
     "text": [
      "stroke:  249\n",
      "no stroke:  4861\n"
     ]
    }
   ],
   "source": [
    "print('stroke: ',len(df[df['stroke']==1]))\n",
    "print('no stroke: ',len(df[df['stroke']==0]))"
   ]
  },
  {
   "cell_type": "code",
   "execution_count": 16,
   "metadata": {
    "id": "hXftZaZmUq3s"
   },
   "outputs": [],
   "source": [
    "stroke1 = df[df['stroke'] == 1].head(240).copy()\n",
    "stroke0 = df[df['stroke'] == 0].head(200).copy()\n",
    "strokee = pd.concat([stroke1, stroke0])"
   ]
  },
  {
   "cell_type": "code",
   "execution_count": 17,
   "metadata": {
    "id": "lqvToW7Knfus"
   },
   "outputs": [],
   "source": [
    "features = (strokee[['age', 'avg_glucose_level', 'bmi', 'stroke']].T).copy()\n",
    "features = np.array(features, dtype = np.float64)"
   ]
  },
  {
   "cell_type": "code",
   "execution_count": 18,
   "metadata": {
    "colab": {
     "base_uri": "https://localhost:8080/"
    },
    "id": "ZOrnlqHXpbBA",
    "outputId": "21d389b9-4f5e-498f-e125-db121adc4d53"
   },
   "outputs": [
    {
     "name": "stdout",
     "output_type": "stream",
     "text": [
      "55.39 271.74\n"
     ]
    }
   ],
   "source": [
    "print(min(features[1]), max(features[1]))"
   ]
  },
  {
   "cell_type": "code",
   "execution_count": 49,
   "metadata": {
    "colab": {
     "base_uri": "https://localhost:8080/",
     "height": 394
    },
    "id": "RAV1TZyelqkk",
    "outputId": "0d9bb2c8-c115-42b0-9133-eb279bfa3b27"
   },
   "outputs": [
    {
     "data": {
      "image/png": "[encoded data removed]",
      "text/plain": [
       "<Figure size 1440x1080 with 1 Axes>"
      ]
     },
     "metadata": {},
     "output_type": "display_data"
    }
   ],
   "source": [
    "plt.figure(figsize=(20, 15))\n",
    "sns.scatterplot(x = features[0], y = features[2],\n",
    "             size = features[1], sizes = (100,472), hue = features[3], palette = 'magma')\n",
    "plt.xlabel('age')\n",
    "plt.ylabel('bmi');"
   ]
  },
  {
   "cell_type": "markdown",
   "metadata": {
    "id": "Ug4wNxfYthUO"
   },
   "source": [
    "AGE: >40/50 \n",
    "\n",
    "BMI: >20\n",
    "\n",
    "Glucosio alto nei vecchi e bmi alto e chi ha ictus"
   ]
  },
  {
   "cell_type": "markdown",
   "metadata": {
    "id": "q5ffvjUBb65q"
   },
   "source": [
    "# Standardize my data and fixing it"
   ]
  },
  {
   "cell_type": "code",
   "execution_count": 20,
   "metadata": {
    "id": "nLdNpbL5b8uM"
   },
   "outputs": [],
   "source": [
    "from sklearn.preprocessing import StandardScaler"
   ]
  },
  {
   "cell_type": "code",
   "execution_count": 21,
   "metadata": {
    "id": "5L2sayqEb8vx"
   },
   "outputs": [],
   "source": [
    "std = StandardScaler()\n",
    "cols = ['age','avg_glucose_level', 'bmi']\n",
    "norm = std.fit_transform(df[cols])\n",
    "\n",
    "df_norm = df.copy()\n",
    "df_norm[cols] = pd.DataFrame(norm)"
   ]
  },
  {
   "cell_type": "code",
   "execution_count": 22,
   "metadata": {
    "colab": {
     "base_uri": "https://localhost:8080/",
     "height": 513
    },
    "id": "WxA2KYYbeGj7",
    "outputId": "b2912de8-4579-4028-92c9-04cfd653d83e"
   },
   "outputs": [
    {
     "data": {
      "text/html": [
       "<div>\n",
       "<style scoped>\n",
       "    .dataframe tbody tr th:only-of-type {\n",
       "        vertical-align: middle;\n",
       "    }\n",
       "\n",
       "    .dataframe tbody tr th {\n",
       "        vertical-align: top;\n",
       "    }\n",
       "\n",
       "    .dataframe thead th {\n",
       "        text-align: right;\n",
       "    }\n",
       "</style>\n",
       "<table border=\"1\" class=\"dataframe\">\n",
       "  <thead>\n",
       "    <tr style=\"text-align: right;\">\n",
       "      <th></th>\n",
       "      <th>id</th>\n",
       "      <th>gender</th>\n",
       "      <th>age</th>\n",
       "      <th>hypertension</th>\n",
       "      <th>heart_disease</th>\n",
       "      <th>ever_married</th>\n",
       "      <th>work_type</th>\n",
       "      <th>Residence_type</th>\n",
       "      <th>avg_glucose_level</th>\n",
       "      <th>bmi</th>\n",
       "      <th>smoking_status</th>\n",
       "      <th>stroke</th>\n",
       "    </tr>\n",
       "  </thead>\n",
       "  <tbody>\n",
       "    <tr>\n",
       "      <th>0</th>\n",
       "      <td>9046</td>\n",
       "      <td>Male</td>\n",
       "      <td>1.051434</td>\n",
       "      <td>0</td>\n",
       "      <td>1</td>\n",
       "      <td>Yes</td>\n",
       "      <td>Private</td>\n",
       "      <td>Urban</td>\n",
       "      <td>2.706375</td>\n",
       "      <td>1.001199</td>\n",
       "      <td>formerly smoked</td>\n",
       "      <td>1</td>\n",
       "    </tr>\n",
       "    <tr>\n",
       "      <th>1</th>\n",
       "      <td>51676</td>\n",
       "      <td>Female</td>\n",
       "      <td>0.786070</td>\n",
       "      <td>0</td>\n",
       "      <td>0</td>\n",
       "      <td>Yes</td>\n",
       "      <td>Self-employed</td>\n",
       "      <td>Rural</td>\n",
       "      <td>2.121559</td>\n",
       "      <td>0.000844</td>\n",
       "      <td>never smoked</td>\n",
       "      <td>1</td>\n",
       "    </tr>\n",
       "    <tr>\n",
       "      <th>2</th>\n",
       "      <td>31112</td>\n",
       "      <td>Male</td>\n",
       "      <td>1.626390</td>\n",
       "      <td>0</td>\n",
       "      <td>1</td>\n",
       "      <td>Yes</td>\n",
       "      <td>Private</td>\n",
       "      <td>Rural</td>\n",
       "      <td>-0.005028</td>\n",
       "      <td>0.468543</td>\n",
       "      <td>never smoked</td>\n",
       "      <td>1</td>\n",
       "    </tr>\n",
       "    <tr>\n",
       "      <th>3</th>\n",
       "      <td>60182</td>\n",
       "      <td>Female</td>\n",
       "      <td>0.255342</td>\n",
       "      <td>0</td>\n",
       "      <td>0</td>\n",
       "      <td>Yes</td>\n",
       "      <td>Private</td>\n",
       "      <td>Urban</td>\n",
       "      <td>1.437358</td>\n",
       "      <td>0.715384</td>\n",
       "      <td>smokes</td>\n",
       "      <td>1</td>\n",
       "    </tr>\n",
       "    <tr>\n",
       "      <th>4</th>\n",
       "      <td>1665</td>\n",
       "      <td>Female</td>\n",
       "      <td>1.582163</td>\n",
       "      <td>1</td>\n",
       "      <td>0</td>\n",
       "      <td>Yes</td>\n",
       "      <td>Self-employed</td>\n",
       "      <td>Rural</td>\n",
       "      <td>1.501184</td>\n",
       "      <td>-0.635746</td>\n",
       "      <td>never smoked</td>\n",
       "      <td>1</td>\n",
       "    </tr>\n",
       "    <tr>\n",
       "      <th>...</th>\n",
       "      <td>...</td>\n",
       "      <td>...</td>\n",
       "      <td>...</td>\n",
       "      <td>...</td>\n",
       "      <td>...</td>\n",
       "      <td>...</td>\n",
       "      <td>...</td>\n",
       "      <td>...</td>\n",
       "      <td>...</td>\n",
       "      <td>...</td>\n",
       "      <td>...</td>\n",
       "      <td>...</td>\n",
       "    </tr>\n",
       "    <tr>\n",
       "      <th>5105</th>\n",
       "      <td>18234</td>\n",
       "      <td>Female</td>\n",
       "      <td>1.626390</td>\n",
       "      <td>1</td>\n",
       "      <td>0</td>\n",
       "      <td>Yes</td>\n",
       "      <td>Private</td>\n",
       "      <td>Urban</td>\n",
       "      <td>-0.494658</td>\n",
       "      <td>0.000844</td>\n",
       "      <td>never smoked</td>\n",
       "      <td>0</td>\n",
       "    </tr>\n",
       "    <tr>\n",
       "      <th>5106</th>\n",
       "      <td>44873</td>\n",
       "      <td>Female</td>\n",
       "      <td>1.670617</td>\n",
       "      <td>0</td>\n",
       "      <td>0</td>\n",
       "      <td>Yes</td>\n",
       "      <td>Self-employed</td>\n",
       "      <td>Urban</td>\n",
       "      <td>0.420775</td>\n",
       "      <td>1.442915</td>\n",
       "      <td>never smoked</td>\n",
       "      <td>0</td>\n",
       "    </tr>\n",
       "    <tr>\n",
       "      <th>5107</th>\n",
       "      <td>19723</td>\n",
       "      <td>Female</td>\n",
       "      <td>-0.363842</td>\n",
       "      <td>0</td>\n",
       "      <td>0</td>\n",
       "      <td>Yes</td>\n",
       "      <td>Self-employed</td>\n",
       "      <td>Rural</td>\n",
       "      <td>-0.511443</td>\n",
       "      <td>0.221702</td>\n",
       "      <td>never smoked</td>\n",
       "      <td>0</td>\n",
       "    </tr>\n",
       "    <tr>\n",
       "      <th>5108</th>\n",
       "      <td>37544</td>\n",
       "      <td>Male</td>\n",
       "      <td>0.343796</td>\n",
       "      <td>0</td>\n",
       "      <td>0</td>\n",
       "      <td>Yes</td>\n",
       "      <td>Private</td>\n",
       "      <td>Rural</td>\n",
       "      <td>1.328257</td>\n",
       "      <td>-0.427880</td>\n",
       "      <td>formerly smoked</td>\n",
       "      <td>0</td>\n",
       "    </tr>\n",
       "    <tr>\n",
       "      <th>5109</th>\n",
       "      <td>44679</td>\n",
       "      <td>Female</td>\n",
       "      <td>0.034205</td>\n",
       "      <td>0</td>\n",
       "      <td>0</td>\n",
       "      <td>Yes</td>\n",
       "      <td>Govt_job</td>\n",
       "      <td>Urban</td>\n",
       "      <td>-0.460867</td>\n",
       "      <td>-0.349930</td>\n",
       "      <td>Unknown</td>\n",
       "      <td>0</td>\n",
       "    </tr>\n",
       "  </tbody>\n",
       "</table>\n",
       "<p>5110 rows × 12 columns</p>\n",
       "</div>"
      ],
      "text/plain": [
       "         id  gender       age  hypertension  heart_disease ever_married  \\\n",
       "0      9046    Male  1.051434             0              1          Yes   \n",
       "1     51676  Female  0.786070             0              0          Yes   \n",
       "2     31112    Male  1.626390             0              1          Yes   \n",
       "3     60182  Female  0.255342             0              0          Yes   \n",
       "4      1665  Female  1.582163             1              0          Yes   \n",
       "...     ...     ...       ...           ...            ...          ...   \n",
       "5105  18234  Female  1.626390             1              0          Yes   \n",
       "5106  44873  Female  1.670617             0              0          Yes   \n",
       "5107  19723  Female -0.363842             0              0          Yes   \n",
       "5108  37544    Male  0.343796             0              0          Yes   \n",
       "5109  44679  Female  0.034205             0              0          Yes   \n",
       "\n",
       "          work_type Residence_type  avg_glucose_level       bmi  \\\n",
       "0           Private          Urban           2.706375  1.001199   \n",
       "1     Self-employed          Rural           2.121559  0.000844   \n",
       "2           Private          Rural          -0.005028  0.468543   \n",
       "3           Private          Urban           1.437358  0.715384   \n",
       "4     Self-employed          Rural           1.501184 -0.635746   \n",
       "...             ...            ...                ...       ...   \n",
       "5105        Private          Urban          -0.494658  0.000844   \n",
       "5106  Self-employed          Urban           0.420775  1.442915   \n",
       "5107  Self-employed          Rural          -0.511443  0.221702   \n",
       "5108        Private          Rural           1.328257 -0.427880   \n",
       "5109       Govt_job          Urban          -0.460867 -0.349930   \n",
       "\n",
       "       smoking_status  stroke  \n",
       "0     formerly smoked       1  \n",
       "1        never smoked       1  \n",
       "2        never smoked       1  \n",
       "3              smokes       1  \n",
       "4        never smoked       1  \n",
       "...               ...     ...  \n",
       "5105     never smoked       0  \n",
       "5106     never smoked       0  \n",
       "5107     never smoked       0  \n",
       "5108  formerly smoked       0  \n",
       "5109          Unknown       0  \n",
       "\n",
       "[5110 rows x 12 columns]"
      ]
     },
     "execution_count": 22,
     "metadata": {},
     "output_type": "execute_result"
    }
   ],
   "source": [
    "df_norm"
   ]
  },
  {
   "cell_type": "markdown",
   "metadata": {
    "id": "T7bqBaAbYlqb"
   },
   "source": [
    "Residence type, ever_married and gender are one hot encoder 0/1, no need to double the columns"
   ]
  },
  {
   "cell_type": "code",
   "execution_count": 23,
   "metadata": {
    "id": "FkmIHLBhYhrg"
   },
   "outputs": [],
   "source": [
    "# GENDER: F/M --> 1/0\n",
    "df_norm.drop(df_norm.loc[df['gender'] =='Other'].index, inplace=True)\n",
    "df_norm[\"gender\"] = df_norm[\"gender\"].apply(lambda x: 1 if x==\"Female\" else 0)\n",
    "\n",
    "# EVER_MARRIED: YES/NO --> 1/0\n",
    "df_norm[\"ever_married\"] = df_norm[\"ever_married\"].apply(lambda x: 1 if x==\"Yes\" else 0)\n",
    "\n",
    "# RESIDENCE_TYPE: URBAN/RURAL --> 1/0\n",
    "df_norm[\"Residence_type\"] = df_norm[\"Residence_type\"].apply(lambda x: 1 if x==\"Urban\" else 0)"
   ]
  },
  {
   "cell_type": "code",
   "execution_count": 24,
   "metadata": {
    "colab": {
     "base_uri": "https://localhost:8080/",
     "height": 261
    },
    "id": "9Y4woXjiaBXo",
    "outputId": "b3f200cd-6b2b-4850-8005-4f72e886ca8f"
   },
   "outputs": [
    {
     "data": {
      "text/html": [
       "<div>\n",
       "<style scoped>\n",
       "    .dataframe tbody tr th:only-of-type {\n",
       "        vertical-align: middle;\n",
       "    }\n",
       "\n",
       "    .dataframe tbody tr th {\n",
       "        vertical-align: top;\n",
       "    }\n",
       "\n",
       "    .dataframe thead th {\n",
       "        text-align: right;\n",
       "    }\n",
       "</style>\n",
       "<table border=\"1\" class=\"dataframe\">\n",
       "  <thead>\n",
       "    <tr style=\"text-align: right;\">\n",
       "      <th></th>\n",
       "      <th>id</th>\n",
       "      <th>gender</th>\n",
       "      <th>age</th>\n",
       "      <th>hypertension</th>\n",
       "      <th>heart_disease</th>\n",
       "      <th>ever_married</th>\n",
       "      <th>work_type</th>\n",
       "      <th>Residence_type</th>\n",
       "      <th>avg_glucose_level</th>\n",
       "      <th>bmi</th>\n",
       "      <th>smoking_status</th>\n",
       "      <th>stroke</th>\n",
       "    </tr>\n",
       "  </thead>\n",
       "  <tbody>\n",
       "    <tr>\n",
       "      <th>0</th>\n",
       "      <td>9046</td>\n",
       "      <td>0</td>\n",
       "      <td>1.051434</td>\n",
       "      <td>0</td>\n",
       "      <td>1</td>\n",
       "      <td>1</td>\n",
       "      <td>Private</td>\n",
       "      <td>1</td>\n",
       "      <td>2.706375</td>\n",
       "      <td>1.001199</td>\n",
       "      <td>formerly smoked</td>\n",
       "      <td>1</td>\n",
       "    </tr>\n",
       "    <tr>\n",
       "      <th>1</th>\n",
       "      <td>51676</td>\n",
       "      <td>1</td>\n",
       "      <td>0.786070</td>\n",
       "      <td>0</td>\n",
       "      <td>0</td>\n",
       "      <td>1</td>\n",
       "      <td>Self-employed</td>\n",
       "      <td>0</td>\n",
       "      <td>2.121559</td>\n",
       "      <td>0.000844</td>\n",
       "      <td>never smoked</td>\n",
       "      <td>1</td>\n",
       "    </tr>\n",
       "    <tr>\n",
       "      <th>2</th>\n",
       "      <td>31112</td>\n",
       "      <td>0</td>\n",
       "      <td>1.626390</td>\n",
       "      <td>0</td>\n",
       "      <td>1</td>\n",
       "      <td>1</td>\n",
       "      <td>Private</td>\n",
       "      <td>0</td>\n",
       "      <td>-0.005028</td>\n",
       "      <td>0.468543</td>\n",
       "      <td>never smoked</td>\n",
       "      <td>1</td>\n",
       "    </tr>\n",
       "    <tr>\n",
       "      <th>3</th>\n",
       "      <td>60182</td>\n",
       "      <td>1</td>\n",
       "      <td>0.255342</td>\n",
       "      <td>0</td>\n",
       "      <td>0</td>\n",
       "      <td>1</td>\n",
       "      <td>Private</td>\n",
       "      <td>1</td>\n",
       "      <td>1.437358</td>\n",
       "      <td>0.715384</td>\n",
       "      <td>smokes</td>\n",
       "      <td>1</td>\n",
       "    </tr>\n",
       "    <tr>\n",
       "      <th>4</th>\n",
       "      <td>1665</td>\n",
       "      <td>1</td>\n",
       "      <td>1.582163</td>\n",
       "      <td>1</td>\n",
       "      <td>0</td>\n",
       "      <td>1</td>\n",
       "      <td>Self-employed</td>\n",
       "      <td>0</td>\n",
       "      <td>1.501184</td>\n",
       "      <td>-0.635746</td>\n",
       "      <td>never smoked</td>\n",
       "      <td>1</td>\n",
       "    </tr>\n",
       "  </tbody>\n",
       "</table>\n",
       "</div>"
      ],
      "text/plain": [
       "      id  gender       age  hypertension  heart_disease  ever_married  \\\n",
       "0   9046       0  1.051434             0              1             1   \n",
       "1  51676       1  0.786070             0              0             1   \n",
       "2  31112       0  1.626390             0              1             1   \n",
       "3  60182       1  0.255342             0              0             1   \n",
       "4   1665       1  1.582163             1              0             1   \n",
       "\n",
       "       work_type  Residence_type  avg_glucose_level       bmi  \\\n",
       "0        Private               1           2.706375  1.001199   \n",
       "1  Self-employed               0           2.121559  0.000844   \n",
       "2        Private               0          -0.005028  0.468543   \n",
       "3        Private               1           1.437358  0.715384   \n",
       "4  Self-employed               0           1.501184 -0.635746   \n",
       "\n",
       "    smoking_status  stroke  \n",
       "0  formerly smoked       1  \n",
       "1     never smoked       1  \n",
       "2     never smoked       1  \n",
       "3           smokes       1  \n",
       "4     never smoked       1  "
      ]
     },
     "execution_count": 24,
     "metadata": {},
     "output_type": "execute_result"
    }
   ],
   "source": [
    "df_norm.head()"
   ]
  },
  {
   "cell_type": "markdown",
   "metadata": {
    "id": "VaIOT7JFNAOy"
   },
   "source": [
    "# Train-Test split"
   ]
  },
  {
   "cell_type": "markdown",
   "metadata": {
    "id": "wQAWF-srXPCx"
   },
   "source": [
    "Dropping columns and separate Design matrix from target"
   ]
  },
  {
   "cell_type": "code",
   "execution_count": 25,
   "metadata": {
    "id": "u4k7UcmJebML"
   },
   "outputs": [],
   "source": [
    "X = df_norm.drop(['id', 'stroke'], axis = 1)\n",
    "y = df_norm['stroke']"
   ]
  },
  {
   "cell_type": "code",
   "execution_count": 26,
   "metadata": {
    "id": "SoE1DJ_DM_fD"
   },
   "outputs": [],
   "source": [
    "from sklearn.model_selection import train_test_split\n",
    "# split the data with 60% in each set\n",
    "X_train, X_test, y_train, y_test = train_test_split(X, y, random_state=0,\n",
    "                                  train_size = 0.6)"
   ]
  },
  {
   "cell_type": "code",
   "execution_count": 27,
   "metadata": {
    "id": "mHdbCPCzONX8"
   },
   "outputs": [],
   "source": [
    "# transform the dataframe in dictionary to perform feature extraction\n",
    "X_train = X_train.to_dict('records')\n",
    "X_test = X_test.to_dict('records')"
   ]
  },
  {
   "cell_type": "code",
   "execution_count": 28,
   "metadata": {
    "id": "ICdEuY6cObe9"
   },
   "outputs": [],
   "source": [
    "from sklearn.feature_extraction import DictVectorizer\n",
    "v = DictVectorizer(sparse = False, dtype = float)"
   ]
  },
  {
   "cell_type": "code",
   "execution_count": 29,
   "metadata": {
    "id": "60jBz7U7RFpE"
   },
   "outputs": [],
   "source": [
    "X_train = v.fit_transform(X_train)\n",
    "X_test = v.transform(X_test)"
   ]
  },
  {
   "cell_type": "code",
   "execution_count": 30,
   "metadata": {
    "colab": {
     "base_uri": "https://localhost:8080/",
     "height": 461
    },
    "id": "XXgar_7iR5mE",
    "outputId": "c2c039ad-a907-4975-e607-a4ca6d1d7720"
   },
   "outputs": [
    {
     "data": {
      "text/html": [
       "<div>\n",
       "<style scoped>\n",
       "    .dataframe tbody tr th:only-of-type {\n",
       "        vertical-align: middle;\n",
       "    }\n",
       "\n",
       "    .dataframe tbody tr th {\n",
       "        vertical-align: top;\n",
       "    }\n",
       "\n",
       "    .dataframe thead th {\n",
       "        text-align: right;\n",
       "    }\n",
       "</style>\n",
       "<table border=\"1\" class=\"dataframe\">\n",
       "  <thead>\n",
       "    <tr style=\"text-align: right;\">\n",
       "      <th></th>\n",
       "      <th>Residence_type</th>\n",
       "      <th>age</th>\n",
       "      <th>avg_glucose_level</th>\n",
       "      <th>bmi</th>\n",
       "      <th>ever_married</th>\n",
       "      <th>gender</th>\n",
       "      <th>heart_disease</th>\n",
       "      <th>hypertension</th>\n",
       "      <th>smoking_status=Unknown</th>\n",
       "      <th>smoking_status=formerly smoked</th>\n",
       "      <th>smoking_status=never smoked</th>\n",
       "      <th>smoking_status=smokes</th>\n",
       "      <th>work_type=Govt_job</th>\n",
       "      <th>work_type=Never_worked</th>\n",
       "      <th>work_type=Private</th>\n",
       "      <th>work_type=Self-employed</th>\n",
       "      <th>work_type=children</th>\n",
       "    </tr>\n",
       "  </thead>\n",
       "  <tbody>\n",
       "    <tr>\n",
       "      <th>0</th>\n",
       "      <td>1.0</td>\n",
       "      <td>-1.872879</td>\n",
       "      <td>0.133446</td>\n",
       "      <td>-1.298319</td>\n",
       "      <td>0.0</td>\n",
       "      <td>0.0</td>\n",
       "      <td>0.0</td>\n",
       "      <td>0.0</td>\n",
       "      <td>1.0</td>\n",
       "      <td>0.0</td>\n",
       "      <td>0.0</td>\n",
       "      <td>0.0</td>\n",
       "      <td>0.0</td>\n",
       "      <td>0.0</td>\n",
       "      <td>0.0</td>\n",
       "      <td>0.0</td>\n",
       "      <td>1.0</td>\n",
       "    </tr>\n",
       "    <tr>\n",
       "      <th>1</th>\n",
       "      <td>1.0</td>\n",
       "      <td>0.520706</td>\n",
       "      <td>2.760705</td>\n",
       "      <td>-0.856603</td>\n",
       "      <td>1.0</td>\n",
       "      <td>0.0</td>\n",
       "      <td>0.0</td>\n",
       "      <td>0.0</td>\n",
       "      <td>0.0</td>\n",
       "      <td>0.0</td>\n",
       "      <td>1.0</td>\n",
       "      <td>0.0</td>\n",
       "      <td>1.0</td>\n",
       "      <td>0.0</td>\n",
       "      <td>0.0</td>\n",
       "      <td>0.0</td>\n",
       "      <td>0.0</td>\n",
       "    </tr>\n",
       "    <tr>\n",
       "      <th>2</th>\n",
       "      <td>1.0</td>\n",
       "      <td>0.874525</td>\n",
       "      <td>1.508031</td>\n",
       "      <td>-0.596771</td>\n",
       "      <td>0.0</td>\n",
       "      <td>1.0</td>\n",
       "      <td>1.0</td>\n",
       "      <td>1.0</td>\n",
       "      <td>0.0</td>\n",
       "      <td>0.0</td>\n",
       "      <td>1.0</td>\n",
       "      <td>0.0</td>\n",
       "      <td>1.0</td>\n",
       "      <td>0.0</td>\n",
       "      <td>0.0</td>\n",
       "      <td>0.0</td>\n",
       "      <td>0.0</td>\n",
       "    </tr>\n",
       "    <tr>\n",
       "      <th>3</th>\n",
       "      <td>1.0</td>\n",
       "      <td>1.316798</td>\n",
       "      <td>-0.856193</td>\n",
       "      <td>0.507518</td>\n",
       "      <td>1.0</td>\n",
       "      <td>1.0</td>\n",
       "      <td>1.0</td>\n",
       "      <td>1.0</td>\n",
       "      <td>0.0</td>\n",
       "      <td>1.0</td>\n",
       "      <td>0.0</td>\n",
       "      <td>0.0</td>\n",
       "      <td>1.0</td>\n",
       "      <td>0.0</td>\n",
       "      <td>0.0</td>\n",
       "      <td>0.0</td>\n",
       "      <td>0.0</td>\n",
       "    </tr>\n",
       "    <tr>\n",
       "      <th>4</th>\n",
       "      <td>0.0</td>\n",
       "      <td>1.184116</td>\n",
       "      <td>1.152459</td>\n",
       "      <td>0.598459</td>\n",
       "      <td>1.0</td>\n",
       "      <td>1.0</td>\n",
       "      <td>0.0</td>\n",
       "      <td>0.0</td>\n",
       "      <td>0.0</td>\n",
       "      <td>0.0</td>\n",
       "      <td>1.0</td>\n",
       "      <td>0.0</td>\n",
       "      <td>1.0</td>\n",
       "      <td>0.0</td>\n",
       "      <td>0.0</td>\n",
       "      <td>0.0</td>\n",
       "      <td>0.0</td>\n",
       "    </tr>\n",
       "    <tr>\n",
       "      <th>...</th>\n",
       "      <td>...</td>\n",
       "      <td>...</td>\n",
       "      <td>...</td>\n",
       "      <td>...</td>\n",
       "      <td>...</td>\n",
       "      <td>...</td>\n",
       "      <td>...</td>\n",
       "      <td>...</td>\n",
       "      <td>...</td>\n",
       "      <td>...</td>\n",
       "      <td>...</td>\n",
       "      <td>...</td>\n",
       "      <td>...</td>\n",
       "      <td>...</td>\n",
       "      <td>...</td>\n",
       "      <td>...</td>\n",
       "      <td>...</td>\n",
       "    </tr>\n",
       "    <tr>\n",
       "      <th>3060</th>\n",
       "      <td>1.0</td>\n",
       "      <td>-0.673433</td>\n",
       "      <td>-0.431494</td>\n",
       "      <td>1.261032</td>\n",
       "      <td>0.0</td>\n",
       "      <td>0.0</td>\n",
       "      <td>0.0</td>\n",
       "      <td>1.0</td>\n",
       "      <td>0.0</td>\n",
       "      <td>0.0</td>\n",
       "      <td>0.0</td>\n",
       "      <td>1.0</td>\n",
       "      <td>0.0</td>\n",
       "      <td>0.0</td>\n",
       "      <td>1.0</td>\n",
       "      <td>0.0</td>\n",
       "      <td>0.0</td>\n",
       "    </tr>\n",
       "    <tr>\n",
       "      <th>3061</th>\n",
       "      <td>0.0</td>\n",
       "      <td>0.786070</td>\n",
       "      <td>-0.534190</td>\n",
       "      <td>0.130760</td>\n",
       "      <td>1.0</td>\n",
       "      <td>0.0</td>\n",
       "      <td>0.0</td>\n",
       "      <td>0.0</td>\n",
       "      <td>0.0</td>\n",
       "      <td>0.0</td>\n",
       "      <td>1.0</td>\n",
       "      <td>0.0</td>\n",
       "      <td>0.0</td>\n",
       "      <td>0.0</td>\n",
       "      <td>0.0</td>\n",
       "      <td>1.0</td>\n",
       "      <td>0.0</td>\n",
       "    </tr>\n",
       "    <tr>\n",
       "      <th>3062</th>\n",
       "      <td>0.0</td>\n",
       "      <td>0.034205</td>\n",
       "      <td>-0.252604</td>\n",
       "      <td>-0.064114</td>\n",
       "      <td>1.0</td>\n",
       "      <td>0.0</td>\n",
       "      <td>0.0</td>\n",
       "      <td>0.0</td>\n",
       "      <td>0.0</td>\n",
       "      <td>0.0</td>\n",
       "      <td>0.0</td>\n",
       "      <td>1.0</td>\n",
       "      <td>0.0</td>\n",
       "      <td>0.0</td>\n",
       "      <td>1.0</td>\n",
       "      <td>0.0</td>\n",
       "      <td>0.0</td>\n",
       "    </tr>\n",
       "    <tr>\n",
       "      <th>3063</th>\n",
       "      <td>1.0</td>\n",
       "      <td>-0.983025</td>\n",
       "      <td>0.326692</td>\n",
       "      <td>0.104777</td>\n",
       "      <td>0.0</td>\n",
       "      <td>0.0</td>\n",
       "      <td>0.0</td>\n",
       "      <td>0.0</td>\n",
       "      <td>0.0</td>\n",
       "      <td>1.0</td>\n",
       "      <td>0.0</td>\n",
       "      <td>0.0</td>\n",
       "      <td>0.0</td>\n",
       "      <td>0.0</td>\n",
       "      <td>1.0</td>\n",
       "      <td>0.0</td>\n",
       "      <td>0.0</td>\n",
       "    </tr>\n",
       "    <tr>\n",
       "      <th>3064</th>\n",
       "      <td>0.0</td>\n",
       "      <td>0.653388</td>\n",
       "      <td>-1.029783</td>\n",
       "      <td>0.559484</td>\n",
       "      <td>1.0</td>\n",
       "      <td>1.0</td>\n",
       "      <td>0.0</td>\n",
       "      <td>1.0</td>\n",
       "      <td>0.0</td>\n",
       "      <td>0.0</td>\n",
       "      <td>1.0</td>\n",
       "      <td>0.0</td>\n",
       "      <td>1.0</td>\n",
       "      <td>0.0</td>\n",
       "      <td>0.0</td>\n",
       "      <td>0.0</td>\n",
       "      <td>0.0</td>\n",
       "    </tr>\n",
       "  </tbody>\n",
       "</table>\n",
       "<p>3065 rows × 17 columns</p>\n",
       "</div>"
      ],
      "text/plain": [
       "      Residence_type       age  avg_glucose_level       bmi  ever_married  \\\n",
       "0                1.0 -1.872879           0.133446 -1.298319           0.0   \n",
       "1                1.0  0.520706           2.760705 -0.856603           1.0   \n",
       "2                1.0  0.874525           1.508031 -0.596771           0.0   \n",
       "3                1.0  1.316798          -0.856193  0.507518           1.0   \n",
       "4                0.0  1.184116           1.152459  0.598459           1.0   \n",
       "...              ...       ...                ...       ...           ...   \n",
       "3060             1.0 -0.673433          -0.431494  1.261032           0.0   \n",
       "3061             0.0  0.786070          -0.534190  0.130760           1.0   \n",
       "3062             0.0  0.034205          -0.252604 -0.064114           1.0   \n",
       "3063             1.0 -0.983025           0.326692  0.104777           0.0   \n",
       "3064             0.0  0.653388          -1.029783  0.559484           1.0   \n",
       "\n",
       "      gender  heart_disease  hypertension  smoking_status=Unknown  \\\n",
       "0        0.0            0.0           0.0                     1.0   \n",
       "1        0.0            0.0           0.0                     0.0   \n",
       "2        1.0            1.0           1.0                     0.0   \n",
       "3        1.0            1.0           1.0                     0.0   \n",
       "4        1.0            0.0           0.0                     0.0   \n",
       "...      ...            ...           ...                     ...   \n",
       "3060     0.0            0.0           1.0                     0.0   \n",
       "3061     0.0            0.0           0.0                     0.0   \n",
       "3062     0.0            0.0           0.0                     0.0   \n",
       "3063     0.0            0.0           0.0                     0.0   \n",
       "3064     1.0            0.0           1.0                     0.0   \n",
       "\n",
       "      smoking_status=formerly smoked  smoking_status=never smoked  \\\n",
       "0                                0.0                          0.0   \n",
       "1                                0.0                          1.0   \n",
       "2                                0.0                          1.0   \n",
       "3                                1.0                          0.0   \n",
       "4                                0.0                          1.0   \n",
       "...                              ...                          ...   \n",
       "3060                             0.0                          0.0   \n",
       "3061                             0.0                          1.0   \n",
       "3062                             0.0                          0.0   \n",
       "3063                             1.0                          0.0   \n",
       "3064                             0.0                          1.0   \n",
       "\n",
       "      smoking_status=smokes  work_type=Govt_job  work_type=Never_worked  \\\n",
       "0                       0.0                 0.0                     0.0   \n",
       "1                       0.0                 1.0                     0.0   \n",
       "2                       0.0                 1.0                     0.0   \n",
       "3                       0.0                 1.0                     0.0   \n",
       "4                       0.0                 1.0                     0.0   \n",
       "...                     ...                 ...                     ...   \n",
       "3060                    1.0                 0.0                     0.0   \n",
       "3061                    0.0                 0.0                     0.0   \n",
       "3062                    1.0                 0.0                     0.0   \n",
       "3063                    0.0                 0.0                     0.0   \n",
       "3064                    0.0                 1.0                     0.0   \n",
       "\n",
       "      work_type=Private  work_type=Self-employed  work_type=children  \n",
       "0                   0.0                      0.0                 1.0  \n",
       "1                   0.0                      0.0                 0.0  \n",
       "2                   0.0                      0.0                 0.0  \n",
       "3                   0.0                      0.0                 0.0  \n",
       "4                   0.0                      0.0                 0.0  \n",
       "...                 ...                      ...                 ...  \n",
       "3060                1.0                      0.0                 0.0  \n",
       "3061                0.0                      1.0                 0.0  \n",
       "3062                1.0                      0.0                 0.0  \n",
       "3063                1.0                      0.0                 0.0  \n",
       "3064                0.0                      0.0                 0.0  \n",
       "\n",
       "[3065 rows x 17 columns]"
      ]
     },
     "execution_count": 30,
     "metadata": {},
     "output_type": "execute_result"
    }
   ],
   "source": [
    "pd.DataFrame(X_train, columns = v.get_feature_names_out() )"
   ]
  },
  {
   "cell_type": "markdown",
   "metadata": {
    "id": "l0UK5xROS982"
   },
   "source": [
    "# k-neighbors method"
   ]
  },
  {
   "cell_type": "code",
   "execution_count": 31,
   "metadata": {
    "id": "QEPa8zupS4CI"
   },
   "outputs": [],
   "source": [
    "from sklearn.neighbors import KNeighborsClassifier\n",
    "\n",
    "model = KNeighborsClassifier(n_neighbors=1)"
   ]
  },
  {
   "cell_type": "code",
   "execution_count": 32,
   "metadata": {
    "id": "MyvW6ThRS4D1"
   },
   "outputs": [],
   "source": [
    "model.fit(X_train, y_train)\n",
    "y_KN = model.predict(X_test)"
   ]
  },
  {
   "cell_type": "markdown",
   "metadata": {
    "id": "Ta1ICMJ7ThgR"
   },
   "source": [
    "Compare using confusion-matrix"
   ]
  },
  {
   "cell_type": "code",
   "execution_count": 33,
   "metadata": {
    "id": "0-deRL_fTgVz"
   },
   "outputs": [],
   "source": [
    "from sklearn.metrics import confusion_matrix"
   ]
  },
  {
   "cell_type": "code",
   "execution_count": 34,
   "metadata": {
    "colab": {
     "base_uri": "https://localhost:8080/",
     "height": 407
    },
    "id": "YLrSXi2ITsaR",
    "outputId": "2bee0705-adec-4646-ea05-aa33d5ab45e5"
   },
   "outputs": [
    {
     "data": {
      "image/png": "[encoded data removed]",
      "text/plain": [
       "<Figure size 720x432 with 1 Axes>"
      ]
     },
     "metadata": {},
     "output_type": "display_data"
    }
   ],
   "source": [
    "mat = confusion_matrix(y_test, y_KN)\n",
    "\n",
    "sns.set(font_scale=1.5) \n",
    "sns.heatmap(mat, square = True, annot=True, cbar=False, fmt=\"d\")\n",
    "plt.xlabel('predicted value')\n",
    "plt.ylabel('true value');"
   ]
  },
  {
   "cell_type": "code",
   "execution_count": 35,
   "metadata": {
    "colab": {
     "base_uri": "https://localhost:8080/"
    },
    "id": "CieDLoruVaW4",
    "outputId": "9b706ca5-d98d-4298-e058-fbcdeaa9f5e2"
   },
   "outputs": [
    {
     "data": {
      "text/plain": [
       "0.9182974559686888"
      ]
     },
     "execution_count": 35,
     "metadata": {},
     "output_type": "execute_result"
    }
   ],
   "source": [
    "from sklearn.metrics import accuracy_score\n",
    "accuracy_score(y_test, y_KN)"
   ]
  },
  {
   "cell_type": "markdown",
   "metadata": {
    "id": "l34kMjuTVp5A"
   },
   "source": [
    "# Logistic Regression"
   ]
  },
  {
   "cell_type": "code",
   "execution_count": 36,
   "metadata": {
    "id": "HAuqaHkWgHZb"
   },
   "outputs": [],
   "source": [
    "from sklearn.linear_model import LogisticRegression"
   ]
  },
  {
   "cell_type": "code",
   "execution_count": 37,
   "metadata": {
    "id": "HWYcZdOEgHkf"
   },
   "outputs": [],
   "source": [
    "clf = LogisticRegression(random_state=0)"
   ]
  },
  {
   "cell_type": "code",
   "execution_count": 38,
   "metadata": {
    "id": "qBFOGdJRgHmM"
   },
   "outputs": [],
   "source": [
    "clf.fit(X_train, y_train)\n",
    "y_LR = clf.predict(X_test)"
   ]
  },
  {
   "cell_type": "code",
   "execution_count": 39,
   "metadata": {
    "colab": {
     "base_uri": "https://localhost:8080/",
     "height": 407
    },
    "id": "XFPT1jrOzGG_",
    "outputId": "3c4cbb66-08c8-44dc-8a7e-d8c3208d39dd"
   },
   "outputs": [
    {
     "data": {
      "image/png": "[encoded data removed]",
      "text/plain": [
       "<Figure size 720x432 with 1 Axes>"
      ]
     },
     "metadata": {},
     "output_type": "display_data"
    }
   ],
   "source": [
    "mat = confusion_matrix(y_test, y_LR)\n",
    "\n",
    "sns.set(font_scale=1.5) \n",
    "sns.heatmap(mat, square = True, annot=True, cbar=False, fmt=\"d\")\n",
    "plt.xlabel('predicted value')\n",
    "plt.ylabel('true value');"
   ]
  },
  {
   "cell_type": "code",
   "execution_count": 40,
   "metadata": {
    "colab": {
     "base_uri": "https://localhost:8080/"
    },
    "id": "s5D86bQBzGI4",
    "outputId": "c174f237-98a1-4149-c778-7b929967928a"
   },
   "outputs": [
    {
     "data": {
      "text/plain": [
       "0.9525440313111546"
      ]
     },
     "execution_count": 40,
     "metadata": {},
     "output_type": "execute_result"
    }
   ],
   "source": [
    "accuracy_score(y_test, y_LR)"
   ]
  },
  {
   "cell_type": "markdown",
   "metadata": {
    "id": "Nowx4AySmwqv"
   },
   "source": [
    "### Boundary ?"
   ]
  },
  {
   "cell_type": "code",
   "execution_count": 41,
   "metadata": {
    "id": "nZ4TlQFJzhZr"
   },
   "outputs": [],
   "source": [
    "theta = clf.coef_.shape"
   ]
  },
  {
   "cell_type": "code",
   "execution_count": 42,
   "metadata": {
    "id": "CwgNSRfJ5FH_"
   },
   "outputs": [],
   "source": [
    "x1_vec = np.linspace(-3-1,4+1,200);\n",
    "x2_vec = np.linspace(-4-1,4+1,200);"
   ]
  },
  {
   "cell_type": "code",
   "execution_count": 43,
   "metadata": {
    "id": "86KQEg7E5Suu"
   },
   "outputs": [],
   "source": [
    "x1_vec, x2_vec = np.meshgrid(x1_vec,x2_vec)   # meshgrid"
   ]
  },
  {
   "cell_type": "code",
   "execution_count": 44,
   "metadata": {
    "id": "2N7NrvAW535R"
   },
   "outputs": [
    {
     "ename": "NameError",
     "evalue": "name 'curve_fit' is not defined",
     "output_type": "error",
     "traceback": [
      "\u001b[0;31m---------------------------------------------------------------------------\u001b[0m",
      "\u001b[0;31mNameError\u001b[0m                                 Traceback (most recent call last)",
      "\u001b[0;32m/tmp/ipykernel_8709/1418914078.py\u001b[0m in \u001b[0;36m<module>\u001b[0;34m\u001b[0m\n\u001b[0;32m----> 1\u001b[0;31m \u001b[0mpopt\u001b[0m\u001b[0;34m,\u001b[0m \u001b[0mpcov\u001b[0m \u001b[0;34m=\u001b[0m \u001b[0mcurve_fit\u001b[0m\u001b[0;34m(\u001b[0m\u001b[0marbitrary_poly\u001b[0m\u001b[0;34m,\u001b[0m \u001b[0mx1_vec\u001b[0m\u001b[0;34m,\u001b[0m \u001b[0mydata\u001b[0m\u001b[0;34m,\u001b[0m \u001b[0mp0\u001b[0m\u001b[0;34m=\u001b[0m\u001b[0;34m[\u001b[0m\u001b[0;36m1\u001b[0m\u001b[0;34m]\u001b[0m\u001b[0;34m*\u001b[0m\u001b[0;34m(\u001b[0m\u001b[0md\u001b[0m\u001b[0;34m+\u001b[0m\u001b[0;36m1\u001b[0m\u001b[0;34m)\u001b[0m\u001b[0;34m)\u001b[0m\u001b[0;34m\u001b[0m\u001b[0;34m\u001b[0m\u001b[0m\n\u001b[0m",
      "\u001b[0;31mNameError\u001b[0m: name 'curve_fit' is not defined"
     ]
    }
   ],
   "source": [
    "popt, pcov = curve_fit(arbitrary_poly, x1_vec, ydata, p0=[1]*(d+1))"
   ]
  },
  {
   "cell_type": "code",
   "execution_count": null,
   "metadata": {
    "id": "bvaUkpd32GtO"
   },
   "outputs": [],
   "source": [
    "from sklearn.preprocessing import PolynomialFeatures\n",
    "poly = PolynomialFeatures(degree=20, include_bias=False)\n",
    "XX = poly.fit(xx)\n"
   ]
  },
  {
   "cell_type": "code",
   "execution_count": null,
   "metadata": {
    "id": "ILVAi5NR7XYe"
   },
   "outputs": [],
   "source": [
    "xx = np.column_stack((x1_vec, x2_vec))"
   ]
  },
  {
   "cell_type": "code",
   "execution_count": null,
   "metadata": {
    "colab": {
     "base_uri": "https://localhost:8080/",
     "height": 770
    },
    "id": "WWaS_UxA8FpQ",
    "outputId": "86174002-3339-4d31-b8c7-51794044a9dc"
   },
   "outputs": [],
   "source": [
    "sns.lmplot(x = \"PCA1\", y = \"PCA2\", hue = 'stroke', data = dftmp, fit_reg = False, height=6);\n",
    "plt.contour(x1_vec, x2_vec, XX, colors=\"red\", levels=[0])\n",
    "plt.show()"
   ]
  },
  {
   "cell_type": "markdown",
   "metadata": {
    "id": "aWzTmS0Rpj3U"
   },
   "source": [
    "# Naive Bayes"
   ]
  },
  {
   "cell_type": "markdown",
   "metadata": {
    "id": "8rdIUMr7qW99"
   },
   "source": [
    "Dobbiamo trasformare le variabili continue in Guassiane(?)"
   ]
  },
  {
   "cell_type": "code",
   "execution_count": null,
   "metadata": {
    "colab": {
     "base_uri": "https://localhost:8080/",
     "height": 346
    },
    "id": "B-iVucir8SEC",
    "outputId": "4912c8b2-e6f1-4241-f70e-3c32f043c95c"
   },
   "outputs": [],
   "source": [
    "from sklearn.naive_bayes import MultinomialNB\n",
    "\n",
    "mnb = MultinomialNB()\n",
    "mnb.fit(X_train, y_train)"
   ]
  },
  {
   "cell_type": "markdown",
   "metadata": {
    "id": "Dyb2FP_yWrdm"
   },
   "source": [
    "# Visualize the data using PCA\n"
   ]
  },
  {
   "cell_type": "code",
   "execution_count": null,
   "metadata": {
    "id": "BY9g61nzk4j_"
   },
   "outputs": [],
   "source": [
    "dfplt = df.copy()\n",
    "\n",
    "# GENDER: F/M --> 1/0\n",
    "dfplt.drop(dfplt.loc[df['gender'] =='Other'].index, inplace=True)\n",
    "dfplt[\"gender\"] = dfplt[\"gender\"].apply(lambda x: 1 if x==\"Female\" else 0)\n",
    "\n",
    "# EVER_MARRIED: YES/NO --> 1/0\n",
    "dfplt[\"ever_married\"] = dfplt[\"ever_married\"].apply(lambda x: 1 if x==\"Yes\" else 0)\n",
    "\n",
    "# RESIDENCE_TYPE: URBAN/RURAL --> 1/0\n",
    "dfplt[\"Residence_type\"] = dfplt[\"Residence_type\"].apply(lambda x: 1 if x==\"Urban\" else 0)"
   ]
  },
  {
   "cell_type": "code",
   "execution_count": null,
   "metadata": {
    "id": "bPgfZCzYWuOP"
   },
   "outputs": [],
   "source": [
    "Xnot_norm = dfplt.drop(['id', 'stroke'], axis = 1)\n",
    "Xplt = Xnot_norm.copy()\n",
    "Xplt = Xplt.to_dict('records')\n",
    "vplt = DictVectorizer(sparse = False, dtype = float)\n",
    "Xplt = vplt.fit_transform(Xplt)"
   ]
  },
  {
   "cell_type": "code",
   "execution_count": null,
   "metadata": {
    "id": "bGARyGtQVpcO"
   },
   "outputs": [],
   "source": [
    "from sklearn.decomposition import PCA     # 1. Choose the model class\n",
    "PCAmodel = PCA(n_components=2)            # 2. Instantiate the model with hyperparameters\n",
    "PCAmodel.fit(Xplt)                        # 3. Fit to data. Notice y is not specified!\n",
    "X_2D = PCAmodel.transform(Xplt)           # 4. Transform the data to two dimensions"
   ]
  },
  {
   "cell_type": "code",
   "execution_count": null,
   "metadata": {
    "colab": {
     "base_uri": "https://localhost:8080/"
    },
    "id": "4AahQ0Z8k0Go",
    "outputId": "f41cf1dd-aedb-4d62-e854-cfbd623ac23a"
   },
   "outputs": [],
   "source": [
    "X_2D.shape"
   ]
  },
  {
   "cell_type": "code",
   "execution_count": null,
   "metadata": {
    "id": "kRUV49UyWU_0"
   },
   "outputs": [],
   "source": [
    "dfplt['PCA1'] = X_2D[:, 0]\n",
    "dfplt['PCA2'] = X_2D[:, 1]"
   ]
  },
  {
   "cell_type": "code",
   "execution_count": null,
   "metadata": {
    "colab": {
     "base_uri": "https://localhost:8080/"
    },
    "id": "TioSYlxMwUKI",
    "outputId": "45e44bb8-1e41-48a5-b970-698e45438838"
   },
   "outputs": [],
   "source": [
    "sum(dfplt['stroke'] == 1)"
   ]
  },
  {
   "cell_type": "code",
   "execution_count": null,
   "metadata": {
    "id": "i-RALGYTfGtI"
   },
   "outputs": [],
   "source": [
    "stroke1 = dfplt[dfplt['stroke'] == 1].head(240).copy()\n",
    "stroke0 = dfplt[dfplt['stroke'] == 0].head(300).copy()\n",
    "strokee = pd.concat([stroke1, stroke0])"
   ]
  },
  {
   "cell_type": "code",
   "execution_count": null,
   "metadata": {
    "colab": {
     "base_uri": "https://localhost:8080/",
     "height": 0
    },
    "id": "9xvPq0XcYE-V",
    "outputId": "529b66ee-085a-4a89-edd7-652b8af8ab64"
   },
   "outputs": [],
   "source": [
    "sns.lmplot(x = \"PCA1\", y = \"PCA2\", hue = 'stroke', data = strokee, fit_reg = True, height=6);"
   ]
  },
  {
   "cell_type": "markdown",
   "metadata": {
    "id": "Ph3G7tdkfZsD"
   },
   "source": [
    "### Standardize dataset PCA plot visualitation"
   ]
  },
  {
   "cell_type": "code",
   "execution_count": null,
   "metadata": {
    "colab": {
     "base_uri": "https://localhost:8080/"
    },
    "id": "cEy48Zf7iMHW",
    "outputId": "9f82e655-dddf-4e66-e9af-19d711045cb8"
   },
   "outputs": [],
   "source": [
    "X.shape"
   ]
  },
  {
   "cell_type": "code",
   "execution_count": null,
   "metadata": {
    "id": "ozJS4rqlxA0i"
   },
   "outputs": [],
   "source": [
    "Xplt = X.copy()\n",
    "Xplt = Xplt.to_dict('records')\n",
    "vplt = DictVectorizer(sparse = False, dtype = float)\n",
    "Xplt = vplt.fit_transform(Xplt)"
   ]
  },
  {
   "cell_type": "code",
   "execution_count": null,
   "metadata": {
    "id": "X2HzOHzsxA4W"
   },
   "outputs": [],
   "source": [
    "from sklearn.decomposition import PCA     # 1. Choose the model class\n",
    "PCAmodel = PCA(n_components=2)            # 2. Instantiate the model with hyperparameters\n",
    "PCAmodel.fit(Xplt)                        # 3. Fit to data. Notice y is not specified!\n",
    "X_2D = PCAmodel.transform(Xplt)           # 4. Transform the data to two dimensions"
   ]
  },
  {
   "cell_type": "code",
   "execution_count": null,
   "metadata": {
    "id": "pu3JNMTMxA89"
   },
   "outputs": [],
   "source": [
    "dfplt = df_norm.copy()\n",
    "dfplt['PCA1'] = X_2D[:, 0]\n",
    "dfplt['PCA2'] = X_2D[:, 1]"
   ]
  },
  {
   "cell_type": "code",
   "execution_count": null,
   "metadata": {
    "id": "eP0kPwkAxQhh"
   },
   "outputs": [],
   "source": [
    "stroke1 = dfplt[dfplt['stroke'] == 1].head(240).copy()\n",
    "stroke0 = dfplt[dfplt['stroke'] == 0].head(300).copy()\n",
    "strokee = pd.concat([stroke1, stroke0])"
   ]
  },
  {
   "cell_type": "code",
   "execution_count": null,
   "metadata": {
    "colab": {
     "base_uri": "https://localhost:8080/",
     "height": 0
    },
    "id": "VbEvQHhqxQkH",
    "outputId": "e6c321fa-bf2c-4b6a-fe4b-78fbf200e831"
   },
   "outputs": [],
   "source": [
    "sns.lmplot(x = \"PCA1\", y = \"PCA2\", hue = 'stroke', data = strokee, fit_reg = True, height=6);"
   ]
  },
  {
   "cell_type": "markdown",
   "metadata": {
    "id": "avx9vD-Lx9OX"
   },
   "source": [
    "Chiedere quale PCA è meglio."
   ]
  }
 ],
 "metadata": {
  "colab": {
   "collapsed_sections": [
    "l0UK5xROS982",
    "l34kMjuTVp5A",
    "Dyb2FP_yWrdm"
   ],
   "name": "FDS_Strocke predition.ipynb",
   "provenance": [],
   "toc_visible": true
  },
  "kernelspec": {
   "display_name": "Python 3 (ipykernel)",
   "language": "python",
   "name": "python3"
  },
  "language_info": {
   "codemirror_mode": {
    "name": "ipython",
    "version": 3
   },
   "file_extension": ".py",
   "mimetype": "text/x-python",
   "name": "python",
   "nbconvert_exporter": "python",
   "pygments_lexer": "ipython3",
   "version": "3.8.12"
  }
 },
 "nbformat": 4,
 "nbformat_minor": 4
}
